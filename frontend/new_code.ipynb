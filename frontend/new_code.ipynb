{
 "cells": [
  {
   "cell_type": "code",
   "execution_count": 1,
   "metadata": {},
   "outputs": [],
   "source": [
    "import firebase_admin\n",
    "from firebase_admin import credentials\n",
    "from firebase_admin import firestore\n",
    "\n",
    "cred = credentials.Certificate(\"serviceAccountKey.json\")\n",
    "firebase_admin.initialize_app(cred)\n",
    "\n",
    "db = firestore.client()"
   ]
  },
  {
   "cell_type": "code",
   "execution_count": 22,
   "metadata": {},
   "outputs": [],
   "source": [
    "#To_Send\n",
    "Cam_ID = \"Entry_01\"\n",
    "nplate = \"HR52525453\"\n",
    "prop_type = \"Campus\"\n",
    "prop_name = \"VITC\"\n",
    "Cam_type = \"Entry\"\n",
    "timestamp = \"ABD\""
   ]
  },
  {
   "cell_type": "code",
   "execution_count": 23,
   "metadata": {},
   "outputs": [],
   "source": [
    "#to_predefine\n",
    "Cam_type1 = \"Entry\"\n",
    "Cam_type2 = \"Exit\""
   ]
  },
  {
   "cell_type": "code",
   "execution_count": 30,
   "metadata": {},
   "outputs": [
    {
     "name": "stdout",
     "output_type": "stream",
     "text": [
      "<google.cloud.firestore_v1.base_document.DocumentSnapshot object at 0x000001C07970CDC0>\n"
     ]
    }
   ],
   "source": [
    "data_prop = {\"Name\": prop_name,\"type\":prop_type,\"Charge\":0,\"Cam_count\":2,\"total_charge\":0}\n",
    "data_cam = {\"Cam_type\":Cam_type,\"Cam_name\":Cam_ID}\n",
    "db.collection(\"property\").document(data_prop[\"Name\"]).collection(\"Camera\").document(data_cam[\"Cam_name\"]).set(data_cam)\n",
    "db.collection('property').document(data_prop[\"Name\"]).set(data_prop,merge=True)\n",
    "\n",
    "if Cam_type == \"Entry\":\n",
    "    # db.collection(\"property\").document(data_prop[\"Name\"]).collection(\"Real_time\").document(nplate).set({nplate:\"in\"})\n",
    "    timestamp1 = db.collection(\"property\").document(data_prop[\"Name\"]).collection(\"Real_time\").document(nplate).get()\n",
    "    print(timestamp1)\n",
    "    if timestamp1.to_dict() is None:\n",
    "        data_car1  ={\"n_plate\":nplate,\"Entry_camera\":Cam_ID,\"Entry_Timestamp\":timestamp}\n",
    "        db.collection(\"property\").document(data_prop[\"Name\"]).collection(\"Real_time\").document(nplate).set({nplate:timestamp})\n",
    "        db.collection(\"property\").document(data_prop[\"Name\"]).collection(\"Cars\").document(\"nplate\").update({\"nplate\":firestore.ArrayUnion([nplate])})\n",
    "        db.collection(\"property\").document(data_prop[\"Name\"]).collection(\"Cars\").document(data_car1[\"n_plate\"]).collection(\"timestamps\").document(timestamp).set(data_car1, merge=True)\n",
    "\n",
    "elif Cam_type == \"Exit\":\n",
    "    timestamp1 = db.collection(\"property\").document(data_prop[\"Name\"]).collection(\"Real_time\").document(nplate).get()\n",
    "    print(timestamp1)\n",
    "    if timestamp1.to_dict() is not None:\n",
    "        data_car1  ={\"n_plate\":nplate,\"Exit_camera\":Cam_ID,\"Exit_Timestamp\":timestamp}\n",
    "        time = timestamp1.to_dict()[nplate]\n",
    "        db.collection(\"property\").document(data_prop[\"Name\"]).collection(\"Real_time\").document(nplate).delete()\n",
    "        db.collection(\"property\").document(data_prop[\"Name\"]).update({\"total_cars\":firestore.Increment(1)})\n",
    "        db.collection(\"property\").document(data_prop[\"Name\"]).collection(\"Cars\").document(data_car1[\"n_plate\"]).collection(\"timestamps\").document(time).set(data_car1, merge=True)\n",
    "    "
   ]
  },
  {
   "cell_type": "code",
   "execution_count": 33,
   "metadata": {},
   "outputs": [],
   "source": [
    "prop_type == \"Parking\"\n",
    "location = \"Marina Mall\"\n",
    "if prop_type == \"Campus\":\n",
    "        Charge=0\n",
    "if prop_type == \"Highway\":\n",
    "        Charge=10\n",
    "if prop_type == \"Parking\":\n",
    "        Charge=10\n",
    "\n",
    "\n",
    "data_prop = {\"Name\": prop_name,\"type\":prop_type,\"Charge\":0,\"Cam_count\":2,\"total_cars\":0}\n",
    "data_cam = {\"Cam_type\":Cam_type,\"Cam_name\":Cam_ID}\n",
    "db.collection(\"property\").document(data_prop[\"Name\"]).collection(\"Camera\").document(data_cam[\"Cam_name\"]).set(data_cam)\n",
    "db.collection('property').document(data_prop[\"Name\"]).set(data_prop,merge=True)\n",
    "\n",
    "# if Cam_type == Cam_type1:\n",
    "#         # db.collection(\"property\").document(data_prop[\"Name\"]).collection(\"Real_time\").document(nplate).set({nplate:\"in\"})\n",
    "#         data_car1  ={\"n_plate\":nplate,\"Entry_camera\":Cam_ID,\"Entry_Timestamp\":timestamp}\n",
    "#         db.collection(\"property\").document(data_prop[\"Name\"]).collection(\"Real_time\").document(nplate).set({nplate:timestamp})\n",
    "#         db.collection(\"property\").document(data_prop[\"Name\"]).collection(\"Cars\").document(\"nplate\").update({\"nplate\":firestore.ArrayUnion([nplate])})\n",
    "#         db.collection(\"property\").document(data_prop[\"Name\"]).collection(\"Cars\").document(data_car1[\"n_plate\"]).collection(\"timestamps\").document(timestamp).set(data_car1, merge=True)\n",
    "\n",
    "# elif Cam_type == Cam_type2:\n",
    "#         data_car1  ={\"n_plate\":nplate,\"Exit_camera\":Cam_ID,\"Exit_Timestamp\":timestamp}\n",
    "#         timestamp1 = db.collection(\"property\").document(data_prop[\"Name\"]).collection(\"Real_time\").document(nplate).get()\n",
    "#         db.collection(\"property\").document(data_prop[\"Name\"]).update({\"total_charge\":firestore.Increment(1)})\n",
    "#         time = timestamp1.to_dict()[nplate]\n",
    "#         db.collection(\"property\").document(data_prop[\"Name\"]).collection(\"Real_time\").document(nplate).delete()\n",
    "#         db.collection(\"property\").document(data_prop[\"Name\"]).collection(\"Cars\").document(data_car1[\"n_plate\"]).collection(\"timestamps\").document(time).set(data_car1, merge=True)\n",
    "        # db.collection(\"property\").document(data_prop[\"Name\"]).collection(\"Real_time\").document(data_cam[\"Cam_name\"]).set(nplate:0)\n",
    "# db.collection(\"property\").document(data_prop[\"Name\"]).collection(\"Cars\").document(data_car1[\"n_plate\"]).set(data_car1, merge=True)\n",
    "\n",
    "# data_car2  ={\"n_plate\":nplate,\"Cam_type\":Cam_type2,\"Timestamp\":timestamp}\n",
    "# data_real = {\"n_plate\":nplate}"
   ]
  },
  {
   "cell_type": "code",
   "execution_count": 8,
   "metadata": {},
   "outputs": [
    {
     "name": "stdout",
     "output_type": "stream",
     "text": [
      "{}\n",
      "{'Charge': 10, 'total_charge': 0, 'type': 'Highway', 'Cam_count': 2, 'Name': 'OMR Road'}\n",
      "{'Charge': 0, 'total_charge': 0, 'type': 'Campus', 'Cam_count': 2, 'Name': 'VITC', 'total_cars': 2}\n"
     ]
    }
   ],
   "source": [
    "collnameref = db.collection(\"property\")\n",
    "docs = collnameref.stream()\n",
    "for doc in docs:\n",
    "    # List subcollections in each doc\n",
    "    print(doc.to_dict())\n",
    "    # for collection_ref in doc.reference.collections():\n",
    "    #     print(collection_ref.id)\n",
    "    #     collnameref1 = db.collection(collection_ref.id)\n",
    "    #     docs = collnameref.stream()"
   ]
  },
  {
   "cell_type": "code",
   "execution_count": 9,
   "metadata": {},
   "outputs": [],
   "source": [
    "#To_Send\n",
    "Cam_ID = \"Entry_01\"\n",
    "nplate = \"HR52525453\"\n",
    "prop_type = \"Highway\"\n",
    "prop_name = \"OMR Road\"\n",
    "Cam_type = \"Entry\"\n",
    "timestamp = \"ABD\""
   ]
  },
  {
   "cell_type": "code",
   "execution_count": 24,
   "metadata": {},
   "outputs": [],
   "source": [
    "if prop_type == \"Campus\":\n",
    "        Charge=0\n",
    "if prop_type == \"Highway\":\n",
    "        Charge=10\n",
    "if prop_type == \"Parking\":\n",
    "        Charge=10\n"
   ]
  },
  {
   "cell_type": "code",
   "execution_count": 25,
   "metadata": {},
   "outputs": [],
   "source": [
    "entry = '2023-04-04 08:40:03.199361'\n",
    "exit = '2023-04-04 08:50:03.199361'"
   ]
  },
  {
   "cell_type": "code",
   "execution_count": 26,
   "metadata": {},
   "outputs": [],
   "source": [
    "location = \"Marina Mall\""
   ]
  },
  {
   "cell_type": "code",
   "execution_count": 27,
   "metadata": {},
   "outputs": [],
   "source": [
    "prop_type = \"Parking\""
   ]
  },
  {
   "cell_type": "code",
   "execution_count": 20,
   "metadata": {},
   "outputs": [
    {
     "name": "stdout",
     "output_type": "stream",
     "text": [
      "difference in seconds: 600.0\n",
      "difference in minutes: 10.0\n",
      "difference in hours: 0.16666666666666666\n"
     ]
    }
   ],
   "source": [
    "from datetime import datetime\n",
    "start_time = datetime.strptime(entry, \"%Y-%m-%d %H:%M:%S.%f\")\n",
    "end_time = datetime.strptime(exit, \"%Y-%m-%d %H:%M:%S.%f\")\n",
    "# get difference\n",
    "if(prop_type== \"Parking\"):\n",
    "    delta = end_time - start_time\n",
    "    sec = delta.total_seconds()\n",
    "    print('difference in seconds:', sec)\n",
    "    min = sec / 60\n",
    "    print('difference in minutes:', min)\n",
    "    # get difference in hours\n",
    "    hours = sec / (60 * 60)\n",
    "    print('difference in hours:', hours)\n",
    "    charged = 10*hours\n",
    "    res2 = db.collection(\"property\").document(location).collection(\"Cars\").document(nplate).collection(\"timestamps\").document(entry).set({'charged':charged},merge = True)\n",
    "    db.collection(\"property\").document(location).update({\"Charge\":firestore.Increment(charged)})\n",
    "\n",
    "elif(prop_type== \"Campus\"):\n",
    "    charged = 0\n",
    "    res2 = db.collection(\"property\").document(location).collection(\"Cars\").document(nplate).collection(\"timestamps\").document(entry).set({'charged':charged},merge = True)\n",
    "    db.collection(\"property\").document(location).update({\"Charge\":firestore.Increment(charged)})\n",
    "elif(prop_type == \"Highway\"):\n",
    "    charged = 50\n",
    "    res2 = db.collection(\"property\").document(location).collection(\"Cars\").document(nplate).collection(\"timestamps\").document(entry).set({'charged':charged},merge = True)\n",
    "    db.collection(\"property\").document(location).update({\"Charge\":firestore.Increment(charged)})\n"
   ]
  },
  {
   "cell_type": "code",
   "execution_count": null,
   "metadata": {},
   "outputs": [],
   "source": []
  }
 ],
 "metadata": {
  "kernelspec": {
   "display_name": "base",
   "language": "python",
   "name": "base"
  },
  "language_info": {
   "codemirror_mode": {
    "name": "ipython",
    "version": 3
   },
   "file_extension": ".py",
   "mimetype": "text/x-python",
   "name": "python",
   "nbconvert_exporter": "python",
   "pygments_lexer": "ipython3",
   "version": "3.9.12"
  },
  "orig_nbformat": 4
 },
 "nbformat": 4,
 "nbformat_minor": 2
}
